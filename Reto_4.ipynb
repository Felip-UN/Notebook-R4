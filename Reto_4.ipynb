{
  "nbformat": 4,
  "nbformat_minor": 0,
  "metadata": {
    "colab": {
      "provenance": []
    },
    "kernelspec": {
      "name": "python3",
      "display_name": "Python 3"
    },
    "language_info": {
      "name": "python"
    }
  },
  "cells": [
    {
      "cell_type": "markdown",
      "source": [
        "## 1.Numero Entero y ASCII de una minuscula\n",
        "Dado un número entero, determinar si ese número corresponde al código ASCII de una vocal minúscula"
      ],
      "metadata": {
        "id": "dNFN93lYC4LE"
      }
    },
    {
      "cell_type": "code",
      "source": [
        "x : int = int(input(\"Ingrese un numero entero: \"))\n",
        "if x>97 and x<122:\n",
        "  print(\"Su numero corresponde al codigo ASCII de una minuscula \\nen este caso:\",chr(x))\n",
        "else:\n",
        "  print(\"Su numnero NO corresponde al codigo ASCII de una minuscula\")"
      ],
      "metadata": {
        "colab": {
          "base_uri": "https://localhost:8080/"
        },
        "id": "JPqmx_9QC6WF",
        "outputId": "46013239-8582-4da0-fb6d-8dbf93806d41"
      },
      "execution_count": null,
      "outputs": [
        {
          "output_type": "stream",
          "name": "stdout",
          "text": [
            "Ingrese un numero entero: 99\n",
            "Su numero corresponde al codigo ASCII de una minuscula \n",
            "en este caso: c\n"
          ]
        }
      ]
    },
    {
      "cell_type": "markdown",
      "source": [
        "## 2. ASCII de una letra\n",
        "Dada una cadena de longitud 1, determine si el código ASCII de primera letra de la cadena es par o no."
      ],
      "metadata": {
        "id": "zi4GjEEQGSmU"
      }
    },
    {
      "cell_type": "code",
      "source": [
        "b=input(\"Ingresa UN caracter: \")\n",
        "char=ord(b)\n",
        "print(\"El codigo ASCII de tu caracter es\", char)\n",
        "if char % 2==0:\n",
        "  print(\"Y es par\")\n",
        "else:\n",
        "  print(\"Y no es par\")"
      ],
      "metadata": {
        "colab": {
          "base_uri": "https://localhost:8080/"
        },
        "id": "J-fphE9TGStk",
        "outputId": "b71a3128-57c2-4a28-a400-0d823b9c7394"
      },
      "execution_count": null,
      "outputs": [
        {
          "output_type": "stream",
          "name": "stdout",
          "text": [
            "Ingresa UN caracter: e\n",
            "El codigo ASCII de tu caracter es 101\n",
            "Y no es par\n"
          ]
        }
      ]
    },
    {
      "cell_type": "markdown",
      "source": [
        "\n",
        "## 3. ASCII y Digitos\n",
        "Dado un carácter, construya un programa en Python para determinar si el carácter es un dígito o no"
      ],
      "metadata": {
        "id": "4u-xEXHKIpNM"
      }
    },
    {
      "cell_type": "code",
      "source": [
        "As=input(\"Ingresa UN caracter: \")\n",
        "cii=ord(As)\n",
        "if cii>=48 and cii<=57:\n",
        "  print(\"Tu caracter es un Digito :D\")\n",
        "else:\n",
        "  print(\"Tu caracter no es un Digito :(\")"
      ],
      "metadata": {
        "colab": {
          "base_uri": "https://localhost:8080/"
        },
        "id": "JqEWK6OnIpZ0",
        "outputId": "ec97330d-8b53-4ea4-ce75-3bead9bb5078"
      },
      "execution_count": null,
      "outputs": [
        {
          "output_type": "stream",
          "name": "stdout",
          "text": [
            "Ingresa UN caracter: 5\n",
            "Tu caracter es un Digito :D\n"
          ]
        }
      ]
    },
    {
      "cell_type": "markdown",
      "source": [
        "\n",
        "##4. Multiplo o no?\n",
        "Realice un programa que lea dos números reales y determine si el primero es múltiplo del segundo"
      ],
      "metadata": {
        "id": "m_MiHkWuLASU"
      }
    },
    {
      "cell_type": "code",
      "source": [
        "a=float(input(\"Ingresa un numero cualquiera:\"))\n",
        "b=float(input(\"Ingresa otro numero cualquiera:\"))\n",
        "if a%b==0:\n",
        "  print(a,\"es multiplo de \",b)\n",
        "else:\n",
        "  print(str(a)+\"no es multiplo de \"+str(b))"
      ],
      "metadata": {
        "colab": {
          "base_uri": "https://localhost:8080/"
        },
        "id": "XF5lLUGtLAZy",
        "outputId": "5b129ed7-0341-4e1b-c250-1ac96fbe0384"
      },
      "execution_count": null,
      "outputs": [
        {
          "output_type": "stream",
          "name": "stdout",
          "text": [
            "Ingresa un numero cualquiera:10\n",
            "Ingresa otro numero cualquiera:2.5\n",
            "10.0 es multiplo de  2.5\n"
          ]
        }
      ]
    },
    {
      "cell_type": "markdown",
      "source": [
        "## 5. Positivo o Negativo? esa es la cuestion\n",
        "Dado un número real x, construya un programa que permita determinar si el número es positivo, negativo o cero. Para cada caso de debe imprimir el texto que se especifica a continuación:\n",
        "\n",
        "*   Positivo: \"El número x es positivo\"\n",
        "*   Negativo: \"El número x es negativo\"\n",
        "*   Cero: (0): \"El número x es el neutro para la suma\"\n",
        "\n"
      ],
      "metadata": {
        "id": "-qLtggBmNzYL"
      }
    },
    {
      "cell_type": "code",
      "source": [
        "numero=int(input(\"Ingresa un numero:\"))\n",
        "if numero>0:\n",
        "  print(\"El número \"+str(numero)+\" es positivo\")\n",
        "elif numero==0:\n",
        "  print(\"El número \"+str(numero)+\" es el neutro para la suma\")\n",
        "else:\n",
        "  print(\"El número \"+str(numero)+\" es negativo\")"
      ],
      "metadata": {
        "colab": {
          "base_uri": "https://localhost:8080/"
        },
        "id": "kPtRK6NgNzjC",
        "outputId": "3dae5e87-ce5f-4cf3-b655-705c17641d05"
      },
      "execution_count": null,
      "outputs": [
        {
          "output_type": "stream",
          "name": "stdout",
          "text": [
            "Ingresa un numero:-2\n",
            "El número -2 es negativo\n"
          ]
        }
      ]
    },
    {
      "cell_type": "markdown",
      "source": [
        "## 6. Radios\n",
        "Dado el centro y el radio de un círculo, determinar si un punto de R2 pertenece o no al interior del círculo"
      ],
      "metadata": {
        "id": "wrWEeaR4VCJb"
      }
    },
    {
      "cell_type": "code",
      "source": [
        "print(\"Quieres asignar los valores al centro y radio?\")\n",
        "res=input(\"y/n: \")\n",
        "if res==\"y\":\n",
        "  print(\"Ingresa los valores del centro (x, y) y el radio (r) \")\n",
        "  x = int(input(\"X : \"))\n",
        "  y = int(input(\"Y : \"))\n",
        "  r = int(input(\"Radio mayor que 0: \"))\n",
        "else:\n",
        "  x, y, r= 0, 0, 5\n",
        "print(\"Centro (x,y) Radio (r)\")\n",
        "print(f\"x = {x}, y = {y} r = {r}\")\n",
        "\n",
        "print(\"Ahora escribe las cordenadas de un punto cualquiera\")\n",
        "xv = int(input(\"X : \"))\n",
        "yv = int(input(\"Y : \"))\n",
        "d_cuadrada= (xv - x)**2 + (yv - y)**2\n",
        "if d_cuadrada<r**2:\n",
        "  print(\"Tu punto marcado se encuentra dentro del circulo\")\n",
        "elif d_cuadrada==r**2:\n",
        "  print(\"Tu punto está sobre el borde del círculo\")\n",
        "else:\n",
        "  print(\"Tu punto marcado esta fuera del circulo\")"
      ],
      "metadata": {
        "id": "MWJ-XxTeVWDk",
        "colab": {
          "base_uri": "https://localhost:8080/"
        },
        "outputId": "f2d902a8-34bd-4014-93db-adc969d54768"
      },
      "execution_count": 16,
      "outputs": [
        {
          "output_type": "stream",
          "name": "stdout",
          "text": [
            "Quieres asignar los valores al centro y radio?\n",
            "y/n: n\n",
            "Centro (x,y) Radio (r)\n",
            "x = 0, y = 0 r = 5\n",
            "Ahora escribe las cordenadas de un punto cualquiera\n",
            "X : 3\n",
            "Y : 4\n",
            "Tu punto está sobre el borde del círculo\n"
          ]
        }
      ]
    },
    {
      "cell_type": "markdown",
      "source": [
        "## 7. Construir un triangulo\n",
        "Dadas tres longitudes positivas, determinar si con esas longitudes se puede construir un triángulo"
      ],
      "metadata": {
        "id": "lRhsmEg3VX01"
      }
    },
    {
      "cell_type": "code",
      "source": [
        "a=int(input('Ingresa una longitud para el lado \"a\": '))\n",
        "b=int(input('Ingresa una longitud para el lado \"b\": '))\n",
        "c=int(input('Ingresa una longitud para el lado \"c\": '))\n",
        "#Valores absolutos\n",
        "if a<0: a=-a\n",
        "if b<0: b=-b\n",
        "if c<0: c=-c\n",
        "#Parametros\n",
        "if a+b>c: #Todo se  basa en esto XD\n",
        "  print(\"Si se puede armar un triangulo con estas medidas\")\n",
        "else:\n",
        "  print(\"No se puede armar un triangulo con estas medidas\")"
      ],
      "metadata": {
        "colab": {
          "base_uri": "https://localhost:8080/"
        },
        "id": "2Q5aKGWRVX-G",
        "outputId": "50bdf770-0c27-43b3-974e-1ae2246d0451"
      },
      "execution_count": null,
      "outputs": [
        {
          "output_type": "stream",
          "name": "stdout",
          "text": [
            "Ingresa una longitud para el lado \"a\": 66\n",
            "Ingresa una longitud para el lado \"b\": 23\n",
            "Ingresa una longitud para el lado \"c\": 70\n",
            "Si se puede armar un triangulo con estas medidas\n"
          ]
        }
      ]
    },
    {
      "cell_type": "markdown",
      "source": [
        "## 8. Paises y Capitales \"America\"\n",
        "Escriba un programa que reciba el nombre en minúsculas de un país de America y retorne la ciudad capital, si el país no pertenece al continente debe arrojar país no identificado"
      ],
      "metadata": {
        "id": "o3DU1Wx0lOvn"
      }
    },
    {
      "cell_type": "code",
      "source": [
        "pais=input(\"Escribe el nombre de un país en minusculas: \")\n",
        "\n",
        "match pais:\n",
        "  case \"colombia\":\n",
        "    print(\"Capital: Bogotá\")\n",
        "  case \"venezuela\":\n",
        "    print(\"Capital: Caracas\")\n",
        "  case \"ecuador\":\n",
        "    print(\"Capital: Quito\")\n",
        "  case \"mexico\":\n",
        "    print(\"Capital: Ciudad de Mexico\")\n",
        "  case \"peru\":\n",
        "    print(\"Capital: Lima\")\n",
        "  case \"argentina\":\n",
        "    print(\"Capital: Buenos Aires\")\n",
        "  case \"uruguay\":\n",
        "    print(\"Capital: Montevideo\")\n",
        "  case \"chile\":\n",
        "    print(\"Capital: Santiago de Chile\")\n",
        "  case \"brazil\":\n",
        "    print(\"Capital: Brasilia\")\n",
        "  case \"bolivia\":\n",
        "    print(\"Capitales: La Paz, Sucre\")\n",
        "  case \"paraguay\":\n",
        "    print(\"Capital: Asuncíon\")\n",
        "  case \"estados unidos\":\n",
        "    print(\"Capital: Washington D. C\")\n",
        "  case \"canada\":\n",
        "    print(\"Capital: Ottawa\")\n",
        "  case _:\n",
        "    print(\"País no identificado, asegurese de solo usar minusculas, y/o que sea del continente americano\")"
      ],
      "metadata": {
        "colab": {
          "base_uri": "https://localhost:8080/"
        },
        "id": "pYLfQDo2lgKS",
        "outputId": "f9e81f4b-de56-400f-c031-b80206094a2c"
      },
      "execution_count": null,
      "outputs": [
        {
          "output_type": "stream",
          "name": "stdout",
          "text": [
            "Escribe el nombre de un país en minusculas: bolivia\n",
            "Capitales: La Paz, Sucre\n"
          ]
        }
      ]
    }
  ]
}